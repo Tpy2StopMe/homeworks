{
 "cells": [
  {
   "cell_type": "code",
   "execution_count": 19,
   "metadata": {},
   "outputs": [
    {
     "data": {
      "text/plain": [
       "15000000"
      ]
     },
     "execution_count": 19,
     "metadata": {},
     "output_type": "execute_result"
    }
   ],
   "source": [
    "# 1. Create add method to add two countries together. \n",
    "# This method should create another country object with the name of the two countries combined \n",
    "# and the population of the two countries added together.\n",
    "\n",
    "# ```\n",
    "\n",
    "# bosnia = Country('Bosnia', 10_000_000)\n",
    "\n",
    "# herzegovina = Country('Herzegovina', 5_000_000)\n",
    "\n",
    "# bosnia_herzegovina = bosnia.add(herzegovina)\n",
    "\n",
    "# bosnia_herzegovina.population -> 15_000_000\n",
    "\n",
    "# bosnia_herzegovina.name -> 'Bosnia Herzegovina'\n",
    "\n",
    "\n",
    "class Country:\n",
    "    def __init__(self, name: str, population: str):\n",
    "        self.name = name\n",
    "        self.population = population \n",
    "\n",
    "    def add(self, other_country):\n",
    "        combined_name = f\"{self.name} {other_country.name}\"\n",
    "        combined_pop =  self.population + other_country.population\n",
    "        return Country(combined_name, combined_pop)\n",
    "\n",
    "bosnia = Country('Bosnia', 10_000_000)\n",
    "herzegovina = Country('Herzegovina', 5_000_000)\n",
    "bosnia_herzegovina = bosnia.add(herzegovina)\n",
    "\n",
    "bosnia_herzegovina.name\n",
    "bosnia_herzegovina.population \n"
   ]
  },
  {
   "cell_type": "code",
   "execution_count": 20,
   "metadata": {},
   "outputs": [
    {
     "data": {
      "text/plain": [
       "'Bosnia Herzegovina'"
      ]
     },
     "execution_count": 20,
     "metadata": {},
     "output_type": "execute_result"
    }
   ],
   "source": [
    "# 2. Implement the previous method with a magic method\n",
    "\n",
    "# ```\n",
    "\n",
    "# bosnia = Country('Bosnia', 10_000_000)\n",
    "\n",
    "# herzegovina = Country('Herzegovina', 5_000_000)\n",
    "\n",
    "# bosnia_herzegovina = bosnia + herzegovina\n",
    "\n",
    "# bosnia_herzegovina.population -> 15_000_000\n",
    "\n",
    "# bosnia_herzegovina.name -> 'Bosnia Herzegovina'\n",
    "\n",
    "\n",
    "class Country:\n",
    "    def __init__(self, name: str, population: str):\n",
    "        self.name = name\n",
    "        self.population = population \n",
    "\n",
    "    def __add__(self, other_country):\n",
    "        return Country(f\"{self.name} {other_country.name}\", self.population + other_country.population)\n",
    "\n",
    "bosnia = Country('Bosnia', 10_000_000)\n",
    "herzegovina = Country('Herzegovina', 5_000_000)\n",
    "bosnia_herzegovina = bosnia + herzegovina\n",
    "\n",
    "bosnia_herzegovina.name\n",
    "bosnia_herzegovina.population\n",
    "bosnia_herzegovina.name\n"
   ]
  },
  {
   "cell_type": "code",
   "execution_count": 69,
   "metadata": {},
   "outputs": [
    {
     "name": "stdout",
     "output_type": "stream",
     "text": [
      "You have been stopped. Use accelerate method.\n"
     ]
    },
    {
     "ename": "Exception",
     "evalue": "Are you trying to get into accident?. You can't use the brake with such speed",
     "output_type": "error",
     "traceback": [
      "\u001b[1;31m---------------------------------------------------------------------------\u001b[0m",
      "\u001b[1;31mException\u001b[0m                                 Traceback (most recent call last)",
      "Cell \u001b[1;32mIn[69], line 40\u001b[0m\n\u001b[0;32m     38\u001b[0m audi\u001b[39m.\u001b[39mbrake()\n\u001b[0;32m     39\u001b[0m audi\u001b[39m.\u001b[39mdisp_speed()\n\u001b[1;32m---> 40\u001b[0m audi\u001b[39m.\u001b[39;49mbrake()\n",
      "Cell \u001b[1;32mIn[69], line 23\u001b[0m, in \u001b[0;36mCar.brake\u001b[1;34m(self)\u001b[0m\n\u001b[0;32m     20\u001b[0m cur_speed_state \u001b[39m=\u001b[39m \u001b[39mself\u001b[39m\u001b[39m.\u001b[39mspeed \u001b[39m-\u001b[39m \u001b[39m5\u001b[39m\n\u001b[0;32m     22\u001b[0m \u001b[39mif\u001b[39;00m cur_speed_state \u001b[39m<\u001b[39m \u001b[39m0\u001b[39m:\n\u001b[1;32m---> 23\u001b[0m     \u001b[39mraise\u001b[39;00m \u001b[39mException\u001b[39;00m (\u001b[39m\"\u001b[39m\u001b[39mAre you trying to get into accident?. You can\u001b[39m\u001b[39m'\u001b[39m\u001b[39mt use the brake with such speed\u001b[39m\u001b[39m\"\u001b[39m)\n\u001b[0;32m     25\u001b[0m \u001b[39melif\u001b[39;00m cur_speed_state \u001b[39m==\u001b[39m \u001b[39m0\u001b[39m:\n\u001b[0;32m     26\u001b[0m     \u001b[39mself\u001b[39m\u001b[39m.\u001b[39mspeed \u001b[39m=\u001b[39m cur_speed_state\n",
      "\u001b[1;31mException\u001b[0m: Are you trying to get into accident?. You can't use the brake with such speed"
     ]
    }
   ],
   "source": [
    "# 3. Create a Car class with the following attributes: brand, model, year, and speed. \n",
    "# The Car class should have the following methods: accelerate, brake and display_speed. \n",
    "# The accelerate method should increase the speed by 5, and the brake method should decrease the speed by 5. \n",
    "# Remember that the speed cannot be negative.\n",
    "\n",
    "class Car:\n",
    "    def __init__(self, brand: str, model: str, year:int, speed: int):\n",
    "        self.brand = brand\n",
    "        self.model = model\n",
    "        self.year = year\n",
    "        if speed < 0:\n",
    "            raise Exception (\"The speed cannot not be negative. True another value\")\n",
    "        else:\n",
    "            self.speed = speed\n",
    "\n",
    "    def accelerate(self):\n",
    "        self.speed += 5\n",
    "    \n",
    "    def brake(self):\n",
    "        cur_speed_state = self.speed - 5\n",
    "        \n",
    "        if cur_speed_state < 0:\n",
    "            raise Exception (\"Are you trying to get into accident? You can't use the brake with such speed\")\n",
    "            \n",
    "        elif cur_speed_state == 0:\n",
    "            self.speed = cur_speed_state\n",
    "            print(\"You have been stopped. Use accelerate method.\")\n",
    "        \n",
    "        else:\n",
    "            self.speed = cur_speed_state\n",
    "\n",
    "    def disp_speed(self):\n",
    "        return self.speed\n",
    "\n",
    "audi = Car(\"audi\", \"a6\", 2018, 5)\n",
    "audi.accelerate()\n",
    "audi.brake()\n",
    "audi.brake()\n",
    "audi.disp_speed()\n",
    "audi.brake()"
   ]
  },
  {
   "cell_type": "code",
   "execution_count": 107,
   "metadata": {},
   "outputs": [
    {
     "name": "stdout",
     "output_type": "stream",
     "text": [
      "Current position is: x:7, y:18\n",
      "Current position is: x:12, y:13\n",
      "Current position is: x:12, y:8\n"
     ]
    }
   ],
   "source": [
    "# 4. (Optional) Create a Robot class with the following attributes: orientation (left, right, up, down), position_x, position_y. \n",
    "# The Robot class should have the following methods: move, turn, and display_position. \n",
    "# The move method should take a number of steps and move the robot in the direction it is currently facing. \n",
    "# The turn method should take a direction (left or right) and turn the robot in that direction. \n",
    "# The display_position method should print the current position of the robot.\n",
    "\n",
    "from collections import deque\n",
    "\n",
    "class Robot:\n",
    "    __commands = [\"left\", \"up\", \"right\", \"down\"]    \n",
    "\n",
    "    def __init__(self, orientation: str, position_x: int, position_y: int):\n",
    "\n",
    "        if orientation not in Robot.__commands:\n",
    "            raise Exception (f\"There is no such command {orientation}\")\n",
    "        else:\n",
    "            self.orientation = Robot.__commands.index(orientation)\n",
    "        self.position_x = position_x\n",
    "        self.position_y = position_y\n",
    "\n",
    "    def move(self, steps: int):\n",
    "        if self.orientation == 0 :\n",
    "            self.position_x -= steps\n",
    "        elif self.orientation == 1 :\n",
    "            self.position_y += steps\n",
    "        elif self.orientation == 2 :\n",
    "             self.position_x += steps\n",
    "        else:\n",
    "            self.position_y -= steps\n",
    "    \n",
    "    def direction(self, turn: str):\n",
    "        acces_way = [\"left\", \"right\"]\n",
    "        if turn not in acces_way:\n",
    "            raise Exception (f\"You can turn only 'left' or 'right' way\")\n",
    "        else:\n",
    "            self.turn = turn\n",
    "        \n",
    "        if turn == \"left\" and self.orientation == 0 :\n",
    "            self.orientation = len(Robot.__commands) - 1\n",
    "        elif turn == \"left\":\n",
    "            self.orientation = self.orientation - 1\n",
    "        elif turn == \"right\" and self.orientation == (len(Robot.__commands) - 1) :\n",
    "            self.orientation = 0\n",
    "            print(self.orientation)\n",
    "        else:\n",
    "            self.orientation = self.orientation + 1\n",
    "    \n",
    "    def disp_position(self):\n",
    "        return (f\"Current position is: x:{self.position_x}, y:{self.position_y}\")\n",
    "\n",
    "\n",
    "# tests with \"right\" arg\n",
    "# optimus = Robot(\"up\", 12, 18)\n",
    "# optimus.move(5) # y:23\n",
    "# print(optimus.disp_position())\n",
    "# optimus.direction(\"right\") # right\n",
    "# optimus.move(5) # x: 17\n",
    "# optimus.direction(\"right\") # down\n",
    "# optimus.move(5) # y: 18\n",
    "# print(optimus.disp_position()) # 17:18 \n",
    "# optimus.direction(\"right\") # left\n",
    "# optimus.direction(\"right\") # up\n",
    "# optimus.direction(\"right\") # right\n",
    "# optimus.move(5)\n",
    "# print(optimus.disp_position())\n",
    "\n",
    "# tests with \"left\" arg\n",
    "optimus = Robot(\"left\", 12, 18)\n",
    "optimus.move(5) # x:7\n",
    "print(optimus.disp_position())\n",
    "optimus.direction(\"left\") # down\n",
    "optimus.move(5) # y: 13\n",
    "optimus.direction(\"left\") # right\n",
    "optimus.move(5) # x: 12\n",
    "print(optimus.disp_position()) # 12:13 \n",
    "optimus.direction(\"left\") # up\n",
    "optimus.direction(\"left\") # left\n",
    "optimus.direction(\"left\") # down\n",
    "optimus.move(5)\n",
    "print(optimus.disp_position())\n"
   ]
  }
 ],
 "metadata": {
  "kernelspec": {
   "display_name": "prj_env",
   "language": "python",
   "name": "python3"
  },
  "language_info": {
   "codemirror_mode": {
    "name": "ipython",
    "version": 3
   },
   "file_extension": ".py",
   "mimetype": "text/x-python",
   "name": "python",
   "nbconvert_exporter": "python",
   "pygments_lexer": "ipython3",
   "version": "3.11.4"
  },
  "orig_nbformat": 4
 },
 "nbformat": 4,
 "nbformat_minor": 2
}
